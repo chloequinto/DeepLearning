{
 "cells": [
  {
   "cell_type": "code",
   "execution_count": 1,
   "metadata": {},
   "outputs": [
    {
     "name": "stderr",
     "output_type": "stream",
     "text": [
      "Using TensorFlow backend.\n",
      "/usr/local/anaconda3/lib/python3.7/site-packages/tensorflow/python/framework/dtypes.py:526: FutureWarning: Passing (type, 1) or '1type' as a synonym of type is deprecated; in a future version of numpy, it will be understood as (type, (1,)) / '(1,)type'.\n",
      "  _np_qint8 = np.dtype([(\"qint8\", np.int8, 1)])\n",
      "/usr/local/anaconda3/lib/python3.7/site-packages/tensorflow/python/framework/dtypes.py:527: FutureWarning: Passing (type, 1) or '1type' as a synonym of type is deprecated; in a future version of numpy, it will be understood as (type, (1,)) / '(1,)type'.\n",
      "  _np_quint8 = np.dtype([(\"quint8\", np.uint8, 1)])\n",
      "/usr/local/anaconda3/lib/python3.7/site-packages/tensorflow/python/framework/dtypes.py:528: FutureWarning: Passing (type, 1) or '1type' as a synonym of type is deprecated; in a future version of numpy, it will be understood as (type, (1,)) / '(1,)type'.\n",
      "  _np_qint16 = np.dtype([(\"qint16\", np.int16, 1)])\n",
      "/usr/local/anaconda3/lib/python3.7/site-packages/tensorflow/python/framework/dtypes.py:529: FutureWarning: Passing (type, 1) or '1type' as a synonym of type is deprecated; in a future version of numpy, it will be understood as (type, (1,)) / '(1,)type'.\n",
      "  _np_quint16 = np.dtype([(\"quint16\", np.uint16, 1)])\n",
      "/usr/local/anaconda3/lib/python3.7/site-packages/tensorflow/python/framework/dtypes.py:530: FutureWarning: Passing (type, 1) or '1type' as a synonym of type is deprecated; in a future version of numpy, it will be understood as (type, (1,)) / '(1,)type'.\n",
      "  _np_qint32 = np.dtype([(\"qint32\", np.int32, 1)])\n",
      "/usr/local/anaconda3/lib/python3.7/site-packages/tensorflow/python/framework/dtypes.py:535: FutureWarning: Passing (type, 1) or '1type' as a synonym of type is deprecated; in a future version of numpy, it will be understood as (type, (1,)) / '(1,)type'.\n",
      "  np_resource = np.dtype([(\"resource\", np.ubyte, 1)])\n"
     ]
    }
   ],
   "source": [
    "from keras.datasets import boston_housing\n",
    "import numpy"
   ]
  },
  {
   "cell_type": "code",
   "execution_count": 2,
   "metadata": {},
   "outputs": [
    {
     "name": "stdout",
     "output_type": "stream",
     "text": [
      "shape of x_train(404, 13)\n",
      "shape of y_train(404,)\n",
      "\n",
      "shape of x_test(102, 13)\n",
      "shape of y_test(102,)\n"
     ]
    }
   ],
   "source": [
    "(x_train, y_train), (x_test, y_test) = boston_housing.load_data()\n",
    "print('shape of x_train' + str(x_train.shape))\n",
    "print('shape of y_train' + str(y_train.shape) + \"\\n\")\n",
    "print('shape of x_test' + str(x_test.shape))\n",
    "print('shape of y_test' + str(y_test.shape))\n"
   ]
  },
  {
   "cell_type": "code",
   "execution_count": 3,
   "metadata": {},
   "outputs": [],
   "source": [
    "n, d = x_train.shape\n",
    "xbar_train = numpy.concatenate((x_train, numpy.ones((n,1))), axis=1)"
   ]
  },
  {
   "cell_type": "code",
   "execution_count": 4,
   "metadata": {},
   "outputs": [
    {
     "name": "stdout",
     "output_type": "stream",
     "text": [
      "shape of x_train:(404, 13)\n",
      "shape of xbar_train:(404, 14)\n"
     ]
    }
   ],
   "source": [
    "print(\"shape of x_train:\" + str(x_train.shape))\n",
    "print(\"shape of xbar_train:\" + str(xbar_train.shape))"
   ]
  },
  {
   "cell_type": "markdown",
   "metadata": {},
   "source": [
    "<img src=\"./images/normal_equation.png\"/>"
   ]
  },
  {
   "cell_type": "markdown",
   "metadata": {},
   "source": [
    "This equation is the normal equation. It allows us to find a w such that we minimize the cost function "
   ]
  },
  {
   "cell_type": "code",
   "execution_count": 8,
   "metadata": {},
   "outputs": [],
   "source": [
    "# red part of equation \n",
    "xx = numpy.dot(xbar_train.T, xbar_train)\n",
    "xx_inv = numpy.linalg.pinv(xx)"
   ]
  },
  {
   "cell_type": "code",
   "execution_count": 9,
   "metadata": {},
   "outputs": [],
   "source": [
    "#blue part of the equation \n",
    "xy = numpy.dot(xbar_train.T, y_train)"
   ]
  },
  {
   "cell_type": "code",
   "execution_count": 11,
   "metadata": {},
   "outputs": [
    {
     "name": "stdout",
     "output_type": "stream",
     "text": [
      "[-1.19997513e-01  5.70003304e-02  3.98379660e-03  4.12698187e+00\n",
      " -2.05002963e+01  3.38024903e+00  7.56807584e-03 -1.71189793e+00\n",
      "  3.34747537e-01 -1.17797225e-02 -9.02318039e-01  8.71912756e-03\n",
      " -5.55842510e-01  4.02936706e+01]\n"
     ]
    }
   ],
   "source": [
    "# find w \n",
    "w = numpy.dot(xx_inv, xy)\n",
    "print(w)"
   ]
  },
  {
   "cell_type": "markdown",
   "metadata": {},
   "source": [
    "Now we want to plug the w value into our MSE. The reason we're finding MSE is to find out whether our model is good. "
   ]
  },
  {
   "cell_type": "markdown",
   "metadata": {},
   "source": [
    "<img src=\"./images/mse.png\"/>"
   ]
  },
  {
   "cell_type": "code",
   "execution_count": 14,
   "metadata": {},
   "outputs": [
    {
     "name": "stdout",
     "output_type": "stream",
     "text": [
      "Train MSE: 22.004800838348142\n"
     ]
    }
   ],
   "source": [
    "y_lsr = numpy.dot(xbar_train, w)#right hand side of equation\n",
    "diff = y_lsr - y_train #absolute value, order doesn't matter\n",
    "\n",
    "MSE = numpy.mean(diff*diff)\n",
    "print(\"Train MSE: \" + str(MSE))\n",
    "\n",
    "#so our model is good! "
   ]
  },
  {
   "cell_type": "markdown",
   "metadata": {},
   "source": [
    "Remember that w bar is the linear regressor. The label (price of house) is our label or y. The features or x are beds, bad, square feet, cars, etc. \n",
    "\n",
    "<img src=\"./images/overall.png\" />\n",
    "\n",
    "so now, let's test it!"
   ]
  },
  {
   "cell_type": "markdown",
   "metadata": {},
   "source": [
    "1. Add a feature to test the feature matrix x to xbar \n",
    "2. Make prediction by: y_pred = xbar*w "
   ]
  },
  {
   "cell_type": "code",
   "execution_count": 16,
   "metadata": {},
   "outputs": [],
   "source": [
    "n_test, _ = x_test.shape \n",
    "xbar_test = numpy.concatenate((x_test, numpy.ones((n_test,1))), axis =1)\n",
    "y_pred = numpy.dot(xbar_test,w)"
   ]
  },
  {
   "cell_type": "markdown",
   "metadata": {},
   "source": [
    "Now find the MSE of the test "
   ]
  },
  {
   "cell_type": "code",
   "execution_count": 17,
   "metadata": {},
   "outputs": [
    {
     "name": "stdout",
     "output_type": "stream",
     "text": [
      "Test MSE: 23.19559925641708\n"
     ]
    }
   ],
   "source": [
    "diff = y_pred - y_test \n",
    "MSE = numpy.mean(diff*diff)\n",
    "print(\"Test MSE: \" + str(MSE))"
   ]
  },
  {
   "cell_type": "markdown",
   "metadata": {},
   "source": [
    "Test MSE (out of sample error) is 23.2 and Training MSE (in sample error)is 22. \n",
    "\n",
    "What do these numbers mean? \n",
    "\n",
    "The game is an indicator of generalization \n"
   ]
  }
 ],
 "metadata": {
  "kernelspec": {
   "display_name": "Python 3",
   "language": "python",
   "name": "python3"
  },
  "language_info": {
   "codemirror_mode": {
    "name": "ipython",
    "version": 3
   },
   "file_extension": ".py",
   "mimetype": "text/x-python",
   "name": "python",
   "nbconvert_exporter": "python",
   "pygments_lexer": "ipython3",
   "version": "3.7.1"
  }
 },
 "nbformat": 4,
 "nbformat_minor": 2
}
